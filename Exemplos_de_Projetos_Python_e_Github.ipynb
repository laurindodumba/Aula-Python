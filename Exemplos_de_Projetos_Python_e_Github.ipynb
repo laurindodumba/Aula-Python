{
  "nbformat": 4,
  "nbformat_minor": 0,
  "metadata": {
    "colab": {
      "provenance": [],
      "authorship_tag": "ABX9TyNQCL9AKRFKRC0BvFzGQKfQ",
      "include_colab_link": true
    },
    "kernelspec": {
      "name": "python3",
      "display_name": "Python 3"
    },
    "language_info": {
      "name": "python"
    }
  },
  "cells": [
    {
      "cell_type": "markdown",
      "metadata": {
        "id": "view-in-github",
        "colab_type": "text"
      },
      "source": [
        "<a href=\"https://colab.research.google.com/github/laurindodumba/Aula-Python/blob/main/Exemplos_de_Projetos_Python_e_Github.ipynb\" target=\"_parent\"><img src=\"https://colab.research.google.com/assets/colab-badge.svg\" alt=\"Open In Colab\"/></a>"
      ]
    },
    {
      "cell_type": "code",
      "execution_count": null,
      "metadata": {
        "id": "wa_uXQarEf4Z"
      },
      "outputs": [],
      "source": [
        "print(\"Olá mundo\")"
      ]
    }
  ]
}